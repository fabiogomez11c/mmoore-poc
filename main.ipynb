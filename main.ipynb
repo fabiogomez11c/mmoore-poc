{
 "cells": [
  {
   "cell_type": "code",
   "execution_count": 36,
   "metadata": {},
   "outputs": [],
   "source": [
    "from transformers import AutoModelForSequenceClassification, Trainer, TrainingArguments, DistilBertTokenizer\n",
    "from datasets import Dataset\n",
    "from sklearn.metrics import accuracy_score\n",
    "\n",
    "import torch\n",
    "import pandas as pd"
   ]
  },
  {
   "cell_type": "code",
   "execution_count": 2,
   "metadata": {},
   "outputs": [
    {
     "name": "stdout",
     "output_type": "stream",
     "text": [
      "Using device: cuda\n"
     ]
    }
   ],
   "source": [
    "num_labels = 3\n",
    "model_ckp = 'distilbert-base-uncased'\n",
    "device = torch.device('cuda' if torch.cuda.is_available() else 'cpu')\n",
    "print(f'Using device: {device}')"
   ]
  },
  {
   "cell_type": "code",
   "execution_count": 3,
   "metadata": {},
   "outputs": [
    {
     "data": {
      "text/plain": [
       "DatasetDict({\n",
       "    train: Dataset({\n",
       "        features: ['category', 'entry', 'has_typo', 'labels'],\n",
       "        num_rows: 251\n",
       "    })\n",
       "    test: Dataset({\n",
       "        features: ['category', 'entry', 'has_typo', 'labels'],\n",
       "        num_rows: 28\n",
       "    })\n",
       "})"
      ]
     },
     "execution_count": 3,
     "metadata": {},
     "output_type": "execute_result"
    }
   ],
   "source": [
    "# Load the data\n",
    "data = Dataset.from_csv('./synthetic_data.csv')\n",
    "cats = {cat: i for i, cat in enumerate(set(data['category']))}\n",
    "labels = [cats[i] for i in data['category']]\n",
    "data = data.add_column(name='labels', column=labels)\n",
    "data = data.shuffle()\n",
    "data = data.train_test_split(test_size=0.1)\n",
    "data"
   ]
  },
  {
   "cell_type": "code",
   "execution_count": 4,
   "metadata": {},
   "outputs": [
    {
     "name": "stderr",
     "output_type": "stream",
     "text": [
      "Some weights of DistilBertForSequenceClassification were not initialized from the model checkpoint at distilbert-base-uncased and are newly initialized: ['classifier.weight', 'pre_classifier.bias', 'classifier.bias', 'pre_classifier.weight']\n",
      "You should probably TRAIN this model on a down-stream task to be able to use it for predictions and inference.\n"
     ]
    },
    {
     "data": {
      "application/vnd.jupyter.widget-view+json": {
       "model_id": "a43822df47744be7a5fd56164e1933d8",
       "version_major": 2,
       "version_minor": 0
      },
      "text/plain": [
       "Map:   0%|          | 0/251 [00:00<?, ? examples/s]"
      ]
     },
     "metadata": {},
     "output_type": "display_data"
    },
    {
     "data": {
      "application/vnd.jupyter.widget-view+json": {
       "model_id": "77762ecf754649d5a84ee533243a7903",
       "version_major": 2,
       "version_minor": 0
      },
      "text/plain": [
       "Map:   0%|          | 0/28 [00:00<?, ? examples/s]"
      ]
     },
     "metadata": {},
     "output_type": "display_data"
    }
   ],
   "source": [
    "tokenizer = DistilBertTokenizer.from_pretrained(model_ckp)\n",
    "model = (AutoModelForSequenceClassification.from_pretrained(model_ckp, num_labels=num_labels)).to(device)\n",
    "\n",
    "def tokenize(batch, tokenizer):\n",
    "    return tokenizer(batch[\"entry\"], padding=True, truncation=True)\n",
    "\n",
    "encoded = data.map(tokenize, batched=True, batch_size=None, fn_kwargs={'tokenizer': tokenizer})"
   ]
  },
  {
   "cell_type": "code",
   "execution_count": 5,
   "metadata": {},
   "outputs": [],
   "source": [
    "batch_size = 16 \n",
    "logging_steps = len(encoded['train']) // batch_size\n",
    "model_name = f'{model_ckp}-finetuned-banking'\n",
    "training_args = TrainingArguments(output_dir=model_name,\n",
    "                                  num_train_epochs=10,\n",
    "                                  learning_rate=2e-5,\n",
    "                                  per_device_train_batch_size=batch_size,\n",
    "                                  per_device_eval_batch_size=batch_size,\n",
    "                                  weight_decay=0.01,\n",
    "                                  evaluation_strategy='epoch',\n",
    "                                  disable_tqdm=False,\n",
    "                                  logging_steps=logging_steps,\n",
    "                                  push_to_hub=False,\n",
    "                                  log_level='error')"
   ]
  },
  {
   "cell_type": "code",
   "execution_count": 6,
   "metadata": {},
   "outputs": [],
   "source": [
    "def compute_metrics(pred):\n",
    "    labels = pred.label_ids\n",
    "    preds = pred.predictions.argmax(-1)\n",
    "    acc = accuracy_score(labels, preds)\n",
    "    return {'accuracy': acc}"
   ]
  },
  {
   "cell_type": "code",
   "execution_count": 7,
   "metadata": {},
   "outputs": [
    {
     "name": "stderr",
     "output_type": "stream",
     "text": [
      "Detected kernel version 5.4.0, which is below the recommended minimum of 5.5.0; this can cause the process to hang. It is recommended to upgrade the kernel to the minimum version or higher.\n"
     ]
    },
    {
     "data": {
      "text/html": [
       "\n",
       "    <div>\n",
       "      \n",
       "      <progress value='160' max='160' style='width:300px; height:20px; vertical-align: middle;'></progress>\n",
       "      [160/160 00:09, Epoch 10/10]\n",
       "    </div>\n",
       "    <table border=\"1\" class=\"dataframe\">\n",
       "  <thead>\n",
       " <tr style=\"text-align: left;\">\n",
       "      <th>Epoch</th>\n",
       "      <th>Training Loss</th>\n",
       "      <th>Validation Loss</th>\n",
       "      <th>Accuracy</th>\n",
       "    </tr>\n",
       "  </thead>\n",
       "  <tbody>\n",
       "    <tr>\n",
       "      <td>1</td>\n",
       "      <td>0.957000</td>\n",
       "      <td>0.609435</td>\n",
       "      <td>1.000000</td>\n",
       "    </tr>\n",
       "    <tr>\n",
       "      <td>2</td>\n",
       "      <td>0.462600</td>\n",
       "      <td>0.194522</td>\n",
       "      <td>1.000000</td>\n",
       "    </tr>\n",
       "    <tr>\n",
       "      <td>3</td>\n",
       "      <td>0.177400</td>\n",
       "      <td>0.072854</td>\n",
       "      <td>1.000000</td>\n",
       "    </tr>\n",
       "    <tr>\n",
       "      <td>4</td>\n",
       "      <td>0.072300</td>\n",
       "      <td>0.036844</td>\n",
       "      <td>1.000000</td>\n",
       "    </tr>\n",
       "    <tr>\n",
       "      <td>5</td>\n",
       "      <td>0.042300</td>\n",
       "      <td>0.024800</td>\n",
       "      <td>1.000000</td>\n",
       "    </tr>\n",
       "    <tr>\n",
       "      <td>6</td>\n",
       "      <td>0.028900</td>\n",
       "      <td>0.019376</td>\n",
       "      <td>1.000000</td>\n",
       "    </tr>\n",
       "    <tr>\n",
       "      <td>7</td>\n",
       "      <td>0.024700</td>\n",
       "      <td>0.016506</td>\n",
       "      <td>1.000000</td>\n",
       "    </tr>\n",
       "    <tr>\n",
       "      <td>8</td>\n",
       "      <td>0.020600</td>\n",
       "      <td>0.014910</td>\n",
       "      <td>1.000000</td>\n",
       "    </tr>\n",
       "    <tr>\n",
       "      <td>9</td>\n",
       "      <td>0.019800</td>\n",
       "      <td>0.014033</td>\n",
       "      <td>1.000000</td>\n",
       "    </tr>\n",
       "    <tr>\n",
       "      <td>10</td>\n",
       "      <td>0.017600</td>\n",
       "      <td>0.013753</td>\n",
       "      <td>1.000000</td>\n",
       "    </tr>\n",
       "  </tbody>\n",
       "</table><p>"
      ],
      "text/plain": [
       "<IPython.core.display.HTML object>"
      ]
     },
     "metadata": {},
     "output_type": "display_data"
    },
    {
     "data": {
      "text/plain": [
       "TrainOutput(global_step=160, training_loss=0.17200825605541467, metrics={'train_runtime': 10.4912, 'train_samples_per_second': 239.248, 'train_steps_per_second': 15.251, 'total_flos': 12988246100400.0, 'train_loss': 0.17200825605541467, 'epoch': 10.0})"
      ]
     },
     "execution_count": 7,
     "metadata": {},
     "output_type": "execute_result"
    }
   ],
   "source": [
    "trainer = Trainer(model=model, args=training_args,\n",
    "                  compute_metrics=compute_metrics,\n",
    "                  train_dataset=encoded['train'],\n",
    "                  eval_dataset=encoded['test'],\n",
    "                  tokenizer=tokenizer)\n",
    "trainer.train()"
   ]
  },
  {
   "cell_type": "code",
   "execution_count": 23,
   "metadata": {},
   "outputs": [],
   "source": [
    "x = encoded['test']['entry'][0]\n",
    "y_hat = model(**tokenizer(x, return_tensors='pt').to(device)).logits.argmax(-1)"
   ]
  },
  {
   "cell_type": "code",
   "execution_count": 14,
   "metadata": {},
   "outputs": [
    {
     "name": "stdout",
     "output_type": "stream",
     "text": [
      "No-Contrast Abdomen-Pelvis CT Imaging\n",
      "2\n"
     ]
    }
   ],
   "source": [
    "print(x)\n",
    "print(y_hat.detach().cpu().numpy()[0])"
   ]
  },
  {
   "cell_type": "code",
   "execution_count": 15,
   "metadata": {},
   "outputs": [
    {
     "data": {
      "text/plain": [
       "{'MR Abdomen Adrenal Without then with Contrast': 0,\n",
       " 'CT Head Angiography with Contrast': 1,\n",
       " 'CT Abdomen Pelvis without Contrast': 2}"
      ]
     },
     "execution_count": 15,
     "metadata": {},
     "output_type": "execute_result"
    }
   ],
   "source": [
    "cats"
   ]
  },
  {
   "cell_type": "code",
   "execution_count": 29,
   "metadata": {},
   "outputs": [],
   "source": [
    "def predict(batch, model, tokenizer, cats):\n",
    "    x = tokenizer(batch['entry'], return_tensors='pt', padding=True, truncation=True)\n",
    "    y_hat = model(**x.to(device)).logits.argmax(-1)\n",
    "    cats_inv = {v: k for k, v in cats.items()}\n",
    "    y_hat = {'prediction': cats_inv[y_hat.detach().cpu().numpy()[0]]}\n",
    "    return y_hat"
   ]
  },
  {
   "cell_type": "code",
   "execution_count": 31,
   "metadata": {},
   "outputs": [
    {
     "data": {
      "application/vnd.jupyter.widget-view+json": {
       "model_id": "85cccf0a1ad5445380edc69823369331",
       "version_major": 2,
       "version_minor": 0
      },
      "text/plain": [
       "Map:   0%|          | 0/251 [00:00<?, ? examples/s]"
      ]
     },
     "metadata": {},
     "output_type": "display_data"
    },
    {
     "data": {
      "application/vnd.jupyter.widget-view+json": {
       "model_id": "b42e2cda7dad48f98499bc1b0afddfa5",
       "version_major": 2,
       "version_minor": 0
      },
      "text/plain": [
       "Map:   0%|          | 0/28 [00:00<?, ? examples/s]"
      ]
     },
     "metadata": {},
     "output_type": "display_data"
    }
   ],
   "source": [
    "preds = data.map(predict, batched=False, batch_size=None, fn_kwargs={'model': model, 'tokenizer': tokenizer, 'cats': cats})"
   ]
  },
  {
   "cell_type": "code",
   "execution_count": 38,
   "metadata": {},
   "outputs": [
    {
     "data": {
      "text/html": [
       "<div>\n",
       "<style scoped>\n",
       "    .dataframe tbody tr th:only-of-type {\n",
       "        vertical-align: middle;\n",
       "    }\n",
       "\n",
       "    .dataframe tbody tr th {\n",
       "        vertical-align: top;\n",
       "    }\n",
       "\n",
       "    .dataframe thead th {\n",
       "        text-align: right;\n",
       "    }\n",
       "</style>\n",
       "<table border=\"1\" class=\"dataframe\">\n",
       "  <thead>\n",
       "    <tr style=\"text-align: right;\">\n",
       "      <th></th>\n",
       "      <th>category</th>\n",
       "      <th>entry</th>\n",
       "      <th>has_typo</th>\n",
       "      <th>labels</th>\n",
       "      <th>prediction</th>\n",
       "    </tr>\n",
       "  </thead>\n",
       "  <tbody>\n",
       "    <tr>\n",
       "      <th>0</th>\n",
       "      <td>CT Abdomen Pelvis without Contrast</td>\n",
       "      <td>No-Contrast Abdomen-Pelvis CT Imaging</td>\n",
       "      <td>0</td>\n",
       "      <td>2</td>\n",
       "      <td>CT Abdomen Pelvis without Contrast</td>\n",
       "    </tr>\n",
       "    <tr>\n",
       "      <th>1</th>\n",
       "      <td>MR Abdomen Adrenal Without then with Contrast</td>\n",
       "      <td>MR Adrenal Abdomen: Contrast Progression, None...</td>\n",
       "      <td>0</td>\n",
       "      <td>0</td>\n",
       "      <td>MR Abdomen Adrenal Without then with Contrast</td>\n",
       "    </tr>\n",
       "    <tr>\n",
       "      <th>2</th>\n",
       "      <td>MR Abdomen Adrenal Without then with Contrast</td>\n",
       "      <td>Abdomen Adrenal MR Imaging: Transition from No...</td>\n",
       "      <td>0</td>\n",
       "      <td>0</td>\n",
       "      <td>MR Abdomen Adrenal Without then with Contrast</td>\n",
       "    </tr>\n",
       "    <tr>\n",
       "      <th>3</th>\n",
       "      <td>MR Abdomen Adrenal Without then with Contrast</td>\n",
       "      <td>Adrenal Abdomen MR: No Contrast, Followed by W...</td>\n",
       "      <td>0</td>\n",
       "      <td>0</td>\n",
       "      <td>MR Abdomen Adrenal Without then with Contrast</td>\n",
       "    </tr>\n",
       "    <tr>\n",
       "      <th>4</th>\n",
       "      <td>MR Abdomen Adrenal Without then with Contrast</td>\n",
       "      <td>Adrenal Abdomn in MR: Contrast Phased Imgaging...</td>\n",
       "      <td>1</td>\n",
       "      <td>0</td>\n",
       "      <td>MR Abdomen Adrenal Without then with Contrast</td>\n",
       "    </tr>\n",
       "    <tr>\n",
       "      <th>5</th>\n",
       "      <td>CT Abdomen Pelvis without Contrast</td>\n",
       "      <td>Computed Tomography of Abdomen &amp; Pelvis withou...</td>\n",
       "      <td>0</td>\n",
       "      <td>2</td>\n",
       "      <td>CT Abdomen Pelvis without Contrast</td>\n",
       "    </tr>\n",
       "    <tr>\n",
       "      <th>6</th>\n",
       "      <td>MR Abdomen Adrenal Without then with Contrast</td>\n",
       "      <td>MR Adrenal in the Abdomn: Without Contrast, Fo...</td>\n",
       "      <td>1</td>\n",
       "      <td>0</td>\n",
       "      <td>MR Abdomen Adrenal Without then with Contrast</td>\n",
       "    </tr>\n",
       "    <tr>\n",
       "      <th>7</th>\n",
       "      <td>CT Head Angiography with Contrast</td>\n",
       "      <td>Head Angiography and CT: Use of Contrast</td>\n",
       "      <td>0</td>\n",
       "      <td>1</td>\n",
       "      <td>CT Head Angiography with Contrast</td>\n",
       "    </tr>\n",
       "    <tr>\n",
       "      <th>8</th>\n",
       "      <td>CT Abdomen Pelvis without Contrast</td>\n",
       "      <td>CT Abdomen &amp; Pelvis - No Contras</td>\n",
       "      <td>1</td>\n",
       "      <td>2</td>\n",
       "      <td>CT Abdomen Pelvis without Contrast</td>\n",
       "    </tr>\n",
       "    <tr>\n",
       "      <th>9</th>\n",
       "      <td>CT Abdomen Pelvis without Contrast</td>\n",
       "      <td>CT Abdomen &amp; Pelvis - No Contrast</td>\n",
       "      <td>0</td>\n",
       "      <td>2</td>\n",
       "      <td>CT Abdomen Pelvis without Contrast</td>\n",
       "    </tr>\n",
       "    <tr>\n",
       "      <th>10</th>\n",
       "      <td>CT Abdomen Pelvis without Contrast</td>\n",
       "      <td>Computed Tomography Abdomen-Pelvis, Without Co...</td>\n",
       "      <td>0</td>\n",
       "      <td>2</td>\n",
       "      <td>CT Abdomen Pelvis without Contrast</td>\n",
       "    </tr>\n",
       "    <tr>\n",
       "      <th>11</th>\n",
       "      <td>CT Head Angiography with Contrast</td>\n",
       "      <td>CT with Contrast for Angiography of Head</td>\n",
       "      <td>0</td>\n",
       "      <td>1</td>\n",
       "      <td>CT Head Angiography with Contrast</td>\n",
       "    </tr>\n",
       "    <tr>\n",
       "      <th>12</th>\n",
       "      <td>MR Abdomen Adrenal Without then with Contrast</td>\n",
       "      <td>MR Abdomen Adrenal with Dual Phases: Without a...</td>\n",
       "      <td>0</td>\n",
       "      <td>0</td>\n",
       "      <td>MR Abdomen Adrenal Without then with Contrast</td>\n",
       "    </tr>\n",
       "    <tr>\n",
       "      <th>13</th>\n",
       "      <td>MR Abdomen Adrenal Without then with Contrast</td>\n",
       "      <td>Abdomen Adrenal MR: Initial No Conrast, Follow...</td>\n",
       "      <td>1</td>\n",
       "      <td>0</td>\n",
       "      <td>MR Abdomen Adrenal Without then with Contrast</td>\n",
       "    </tr>\n",
       "    <tr>\n",
       "      <th>14</th>\n",
       "      <td>CT Head Angiography with Contrast</td>\n",
       "      <td>CT Scan Angiography: Head with Contrast Agent</td>\n",
       "      <td>0</td>\n",
       "      <td>1</td>\n",
       "      <td>CT Head Angiography with Contrast</td>\n",
       "    </tr>\n",
       "    <tr>\n",
       "      <th>15</th>\n",
       "      <td>MR Abdomen Adrenal Without then with Contrast</td>\n",
       "      <td>MR Abdomen Adrenal, Contrast Staging: Absent, ...</td>\n",
       "      <td>0</td>\n",
       "      <td>0</td>\n",
       "      <td>MR Abdomen Adrenal Without then with Contrast</td>\n",
       "    </tr>\n",
       "    <tr>\n",
       "      <th>16</th>\n",
       "      <td>MR Abdomen Adrenal Without then with Contrast</td>\n",
       "      <td>Adrenal Abdomen MR: Initially Without, Subsequ...</td>\n",
       "      <td>0</td>\n",
       "      <td>0</td>\n",
       "      <td>MR Abdomen Adrenal Without then with Contrast</td>\n",
       "    </tr>\n",
       "    <tr>\n",
       "      <th>17</th>\n",
       "      <td>MR Abdomen Adrenal Without then with Contrast</td>\n",
       "      <td>MR Abdomen Adrenal, Two-Phase Contrast: No, Th...</td>\n",
       "      <td>0</td>\n",
       "      <td>0</td>\n",
       "      <td>MR Abdomen Adrenal Without then with Contrast</td>\n",
       "    </tr>\n",
       "    <tr>\n",
       "      <th>18</th>\n",
       "      <td>CT Abdomen Pelvis without Contrast</td>\n",
       "      <td>Abdomen Pelvis CT with No Contrsat</td>\n",
       "      <td>1</td>\n",
       "      <td>2</td>\n",
       "      <td>CT Abdomen Pelvis without Contrast</td>\n",
       "    </tr>\n",
       "    <tr>\n",
       "      <th>19</th>\n",
       "      <td>MR Abdomen Adrenal Without then with Contrast</td>\n",
       "      <td>MR Seqential Imaging for Adrenal Abdmen: No, T...</td>\n",
       "      <td>1</td>\n",
       "      <td>0</td>\n",
       "      <td>MR Abdomen Adrenal Without then with Contrast</td>\n",
       "    </tr>\n",
       "    <tr>\n",
       "      <th>20</th>\n",
       "      <td>CT Abdomen Pelvis without Contrast</td>\n",
       "      <td>Contrast-Free Computed Tomography: Abdomen and...</td>\n",
       "      <td>0</td>\n",
       "      <td>2</td>\n",
       "      <td>CT Abdomen Pelvis without Contrast</td>\n",
       "    </tr>\n",
       "    <tr>\n",
       "      <th>21</th>\n",
       "      <td>CT Head Angiography with Contrast</td>\n",
       "      <td>Angiography of Head with Contrast in CT</td>\n",
       "      <td>0</td>\n",
       "      <td>1</td>\n",
       "      <td>CT Head Angiography with Contrast</td>\n",
       "    </tr>\n",
       "    <tr>\n",
       "      <th>22</th>\n",
       "      <td>CT Head Angiography with Contrast</td>\n",
       "      <td>CT Angiogarphy of Head - Contrast</td>\n",
       "      <td>1</td>\n",
       "      <td>1</td>\n",
       "      <td>CT Head Angiography with Contrast</td>\n",
       "    </tr>\n",
       "    <tr>\n",
       "      <th>23</th>\n",
       "      <td>CT Head Angiography with Contrast</td>\n",
       "      <td>Head Angiography Using CT and Contrast</td>\n",
       "      <td>0</td>\n",
       "      <td>1</td>\n",
       "      <td>CT Head Angiography with Contrast</td>\n",
       "    </tr>\n",
       "    <tr>\n",
       "      <th>24</th>\n",
       "      <td>MR Abdomen Adrenal Without then with Contrast</td>\n",
       "      <td>MR Abdomen with Adrenal Glands: Contrast Seque...</td>\n",
       "      <td>0</td>\n",
       "      <td>0</td>\n",
       "      <td>MR Abdomen Adrenal Without then with Contrast</td>\n",
       "    </tr>\n",
       "    <tr>\n",
       "      <th>25</th>\n",
       "      <td>CT Head Angiography with Contrast</td>\n",
       "      <td>Head Angiography by CT with Contrast Usage</td>\n",
       "      <td>0</td>\n",
       "      <td>1</td>\n",
       "      <td>CT Head Angiography with Contrast</td>\n",
       "    </tr>\n",
       "    <tr>\n",
       "      <th>26</th>\n",
       "      <td>CT Head Angiography with Contrast</td>\n",
       "      <td>CT Head Angiography Utilizing Contrast</td>\n",
       "      <td>0</td>\n",
       "      <td>1</td>\n",
       "      <td>CT Head Angiography with Contrast</td>\n",
       "    </tr>\n",
       "    <tr>\n",
       "      <th>27</th>\n",
       "      <td>MR Abdomen Adrenal Without then with Contrast</td>\n",
       "      <td>Abdomen Adrenal MR: First Phase Without, Secon...</td>\n",
       "      <td>0</td>\n",
       "      <td>0</td>\n",
       "      <td>MR Abdomen Adrenal Without then with Contrast</td>\n",
       "    </tr>\n",
       "  </tbody>\n",
       "</table>\n",
       "</div>"
      ],
      "text/plain": [
       "                                         category  \\\n",
       "0              CT Abdomen Pelvis without Contrast   \n",
       "1   MR Abdomen Adrenal Without then with Contrast   \n",
       "2   MR Abdomen Adrenal Without then with Contrast   \n",
       "3   MR Abdomen Adrenal Without then with Contrast   \n",
       "4   MR Abdomen Adrenal Without then with Contrast   \n",
       "5              CT Abdomen Pelvis without Contrast   \n",
       "6   MR Abdomen Adrenal Without then with Contrast   \n",
       "7               CT Head Angiography with Contrast   \n",
       "8              CT Abdomen Pelvis without Contrast   \n",
       "9              CT Abdomen Pelvis without Contrast   \n",
       "10             CT Abdomen Pelvis without Contrast   \n",
       "11              CT Head Angiography with Contrast   \n",
       "12  MR Abdomen Adrenal Without then with Contrast   \n",
       "13  MR Abdomen Adrenal Without then with Contrast   \n",
       "14              CT Head Angiography with Contrast   \n",
       "15  MR Abdomen Adrenal Without then with Contrast   \n",
       "16  MR Abdomen Adrenal Without then with Contrast   \n",
       "17  MR Abdomen Adrenal Without then with Contrast   \n",
       "18             CT Abdomen Pelvis without Contrast   \n",
       "19  MR Abdomen Adrenal Without then with Contrast   \n",
       "20             CT Abdomen Pelvis without Contrast   \n",
       "21              CT Head Angiography with Contrast   \n",
       "22              CT Head Angiography with Contrast   \n",
       "23              CT Head Angiography with Contrast   \n",
       "24  MR Abdomen Adrenal Without then with Contrast   \n",
       "25              CT Head Angiography with Contrast   \n",
       "26              CT Head Angiography with Contrast   \n",
       "27  MR Abdomen Adrenal Without then with Contrast   \n",
       "\n",
       "                                                entry  has_typo  labels  \\\n",
       "0               No-Contrast Abdomen-Pelvis CT Imaging         0       2   \n",
       "1   MR Adrenal Abdomen: Contrast Progression, None...         0       0   \n",
       "2   Abdomen Adrenal MR Imaging: Transition from No...         0       0   \n",
       "3   Adrenal Abdomen MR: No Contrast, Followed by W...         0       0   \n",
       "4   Adrenal Abdomn in MR: Contrast Phased Imgaging...         1       0   \n",
       "5   Computed Tomography of Abdomen & Pelvis withou...         0       2   \n",
       "6   MR Adrenal in the Abdomn: Without Contrast, Fo...         1       0   \n",
       "7            Head Angiography and CT: Use of Contrast         0       1   \n",
       "8                    CT Abdomen & Pelvis - No Contras         1       2   \n",
       "9                   CT Abdomen & Pelvis - No Contrast         0       2   \n",
       "10  Computed Tomography Abdomen-Pelvis, Without Co...         0       2   \n",
       "11           CT with Contrast for Angiography of Head         0       1   \n",
       "12  MR Abdomen Adrenal with Dual Phases: Without a...         0       0   \n",
       "13  Abdomen Adrenal MR: Initial No Conrast, Follow...         1       0   \n",
       "14      CT Scan Angiography: Head with Contrast Agent         0       1   \n",
       "15  MR Abdomen Adrenal, Contrast Staging: Absent, ...         0       0   \n",
       "16  Adrenal Abdomen MR: Initially Without, Subsequ...         0       0   \n",
       "17  MR Abdomen Adrenal, Two-Phase Contrast: No, Th...         0       0   \n",
       "18                 Abdomen Pelvis CT with No Contrsat         1       2   \n",
       "19  MR Seqential Imaging for Adrenal Abdmen: No, T...         1       0   \n",
       "20  Contrast-Free Computed Tomography: Abdomen and...         0       2   \n",
       "21            Angiography of Head with Contrast in CT         0       1   \n",
       "22                  CT Angiogarphy of Head - Contrast         1       1   \n",
       "23             Head Angiography Using CT and Contrast         0       1   \n",
       "24  MR Abdomen with Adrenal Glands: Contrast Seque...         0       0   \n",
       "25         Head Angiography by CT with Contrast Usage         0       1   \n",
       "26             CT Head Angiography Utilizing Contrast         0       1   \n",
       "27  Abdomen Adrenal MR: First Phase Without, Secon...         0       0   \n",
       "\n",
       "                                       prediction  \n",
       "0              CT Abdomen Pelvis without Contrast  \n",
       "1   MR Abdomen Adrenal Without then with Contrast  \n",
       "2   MR Abdomen Adrenal Without then with Contrast  \n",
       "3   MR Abdomen Adrenal Without then with Contrast  \n",
       "4   MR Abdomen Adrenal Without then with Contrast  \n",
       "5              CT Abdomen Pelvis without Contrast  \n",
       "6   MR Abdomen Adrenal Without then with Contrast  \n",
       "7               CT Head Angiography with Contrast  \n",
       "8              CT Abdomen Pelvis without Contrast  \n",
       "9              CT Abdomen Pelvis without Contrast  \n",
       "10             CT Abdomen Pelvis without Contrast  \n",
       "11              CT Head Angiography with Contrast  \n",
       "12  MR Abdomen Adrenal Without then with Contrast  \n",
       "13  MR Abdomen Adrenal Without then with Contrast  \n",
       "14              CT Head Angiography with Contrast  \n",
       "15  MR Abdomen Adrenal Without then with Contrast  \n",
       "16  MR Abdomen Adrenal Without then with Contrast  \n",
       "17  MR Abdomen Adrenal Without then with Contrast  \n",
       "18             CT Abdomen Pelvis without Contrast  \n",
       "19  MR Abdomen Adrenal Without then with Contrast  \n",
       "20             CT Abdomen Pelvis without Contrast  \n",
       "21              CT Head Angiography with Contrast  \n",
       "22              CT Head Angiography with Contrast  \n",
       "23              CT Head Angiography with Contrast  \n",
       "24  MR Abdomen Adrenal Without then with Contrast  \n",
       "25              CT Head Angiography with Contrast  \n",
       "26              CT Head Angiography with Contrast  \n",
       "27  MR Abdomen Adrenal Without then with Contrast  "
      ]
     },
     "execution_count": 38,
     "metadata": {},
     "output_type": "execute_result"
    }
   ],
   "source": [
    "pd.DataFrame(preds['test'])"
   ]
  }
 ],
 "metadata": {
  "kernelspec": {
   "display_name": "base",
   "language": "python",
   "name": "python3"
  },
  "language_info": {
   "codemirror_mode": {
    "name": "ipython",
    "version": 3
   },
   "file_extension": ".py",
   "mimetype": "text/x-python",
   "name": "python",
   "nbconvert_exporter": "python",
   "pygments_lexer": "ipython3",
   "version": "3.10.11"
  }
 },
 "nbformat": 4,
 "nbformat_minor": 2
}
